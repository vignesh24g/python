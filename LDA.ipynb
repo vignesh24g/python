{
 "cells": [
  {
   "cell_type": "code",
   "execution_count": 6,
   "metadata": {},
   "outputs": [],
   "source": [
    "import numpy as np\n",
    "import matplotlib.pyplot as plt\n",
    "from sklearn import datasets"
   ]
  },
  {
   "cell_type": "code",
   "execution_count": 7,
   "metadata": {},
   "outputs": [],
   "source": [
    "class LDA:\n",
    "    def __init__(self, n_components):\n",
    "        self.n_components = n_components\n",
    "        self.linear_discriminants = None\n",
    "\n",
    "    def fit(self, X, y):\n",
    "        n_features = X.shape[1]\n",
    "        class_labels = np.unique(y)\n",
    "\n",
    "        mean_overall = np.mean(X, axis=0)\n",
    "        SW = np.zeros((n_features, n_features))\n",
    "        SB = np.zeros((n_features, n_features))\n",
    "        for c in class_labels:\n",
    "            X_c = X[y == c]\n",
    "            mean_c = np.mean(X_c, axis=0)\n",
    "            SW += (X_c - mean_c).T.dot((X_c - mean_c))\n",
    "\n",
    "            n_c = X_c.shape[0]\n",
    "            mean_diff = (mean_c - mean_overall).reshape(n_features, 1)\n",
    "            SB += n_c * (mean_diff).dot(mean_diff.T)\n",
    "\n",
    "        # Determine SW^-1 * SB\n",
    "        A = np.linalg.inv(SW).dot(SB)\n",
    "        # Get eigenvalues and eigenvectors of SW^-1 * SB\n",
    "        eigenvalues, eigenvectors = np.linalg.eig(A)\n",
    "        eigenvectors = eigenvectors.T\n",
    "        idxs = np.argsort(abs(eigenvalues))[::-1]\n",
    "        eigenvalues = eigenvalues[idxs]\n",
    "        eigenvectors = eigenvectors[idxs]\n",
    "        # store first n eigenvectors\n",
    "        self.linear_discriminants = eigenvectors[0 : self.n_components]\n",
    "\n",
    "    def transform(self, X):\n",
    "        return np.dot(X, self.linear_discriminants.T)"
   ]
  },
  {
   "cell_type": "code",
   "execution_count": 3,
   "metadata": {},
   "outputs": [],
   "source": [
    "data = datasets.load_iris()\n",
    "X = data.data\n",
    "y = data.target"
   ]
  },
  {
   "cell_type": "code",
   "execution_count": 7,
   "metadata": {},
   "outputs": [],
   "source": [
    "lda = LDA(2)\n",
    "lda.fit(X, y)\n",
    "X_projected = lda.transform(X)"
   ]
  },
  {
   "cell_type": "code",
   "execution_count": 8,
   "metadata": {},
   "outputs": [
    {
     "name": "stdout",
     "output_type": "stream",
     "text": [
      "Shape of X: (150, 4)\n",
      "Shape of transformed X: (150, 2)\n"
     ]
    }
   ],
   "source": [
    "print(\"Shape of X:\", X.shape)\n",
    "print(\"Shape of transformed X:\", X_projected.shape)"
   ]
  },
  {
   "cell_type": "code",
   "execution_count": 10,
   "metadata": {},
   "outputs": [
    {
     "data": {
      "image/png": "[encoded data removed]",
      "text/plain": [
       "<Figure size 432x288 with 1 Axes>"
      ]
     },
     "metadata": {
      "needs_background": "light"
     },
     "output_type": "display_data"
    }
   ],
   "source": [
    "x1, x2 = X_projected[:, 0], X_projected[:, 1]\n",
    "\n",
    "plt.scatter(\n",
    "    x1, x2, c=y, edgecolor=\"none\", alpha=0.8, cmap=plt.cm.get_cmap(\"viridis\", 3)\n",
    ")\n",
    "\n",
    "plt.xlabel(\"Linear Discriminant 1\")\n",
    "plt.ylabel(\"Linear Discriminant 2\")\n",
    "plt.show()"
   ]
  },
  {
   "cell_type": "code",
   "execution_count": 8,
   "metadata": {},
   "outputs": [],
   "source": [
    "from sklearn.neural_network import MLPClassifier\n",
    "from sklearn.cluster import KMeans \n",
    "from sklearn import datasets\n",
    "from sklearn.model_selection import train_test_split\n",
    "\n",
    "from sklearn.metrics import classification_report as cr\n",
    "from sklearn.metrics import confusion_matrix as cm\n",
    "\n",
    "import time"
   ]
  },
  {
   "cell_type": "code",
   "execution_count": 9,
   "metadata": {},
   "outputs": [],
   "source": [
    "iris = datasets.load_iris()\n",
    "X, y = iris.data, iris.target\n",
    "X_train, X_test, y_train, y_test = train_test_split(X, y, test_size=0.2)"
   ]
  },
  {
   "cell_type": "code",
   "execution_count": 10,
   "metadata": {},
   "outputs": [
    {
     "name": "stdout",
     "output_type": "stream",
     "text": [
      "Training time:  0.03464841842651367\n",
      "Confusion matrix: \n",
      "[[11  0  0]\n",
      " [ 0  5  0]\n",
      " [ 0  2 12]]\n",
      "Metrics: \n",
      "              precision    recall  f1-score   support\n",
      "\n",
      "           0       1.00      1.00      1.00        11\n",
      "           1       0.71      1.00      0.83         5\n",
      "           2       1.00      0.86      0.92        14\n",
      "\n",
      "    accuracy                           0.93        30\n",
      "   macro avg       0.90      0.95      0.92        30\n",
      "weighted avg       0.95      0.93      0.94        30\n",
      "\n",
      "Accuracy:  0.9333333333333333\n"
     ]
    }
   ],
   "source": [
    "start_time = time.time()\n",
    "clf = MLPClassifier(solver='lbfgs', alpha=1e-5, max_iter=1000, hidden_layer_sizes=(3, 3), random_state=1)\n",
    "clf.fit(X_train, y_train)\n",
    "preds = clf.predict(X_test)\n",
    "duration = time.time() - start_time\n",
    "\n",
    "print(\"Training time: \", duration)\n",
    "print(\"Confusion matrix: \")\n",
    "print(cm(y_test, preds))\n",
    "print(\"Metrics: \")\n",
    "print(cr(y_test, preds))\n",
    "print(\"Accuracy: \", np.sum(preds == y_test)/len(y_test))"
   ]
  },
  {
   "cell_type": "code",
   "execution_count": 22,
   "metadata": {},
   "outputs": [
    {
     "name": "stdout",
     "output_type": "stream",
     "text": [
      "(150, 2)\n",
      "[[-1.49920971 -1.88675441]\n",
      " [-1.2643595  -1.59214275]\n",
      " [-1.35525305 -1.73341462]\n",
      " [-1.18495616 -1.62358806]\n",
      " [-1.5169559  -1.94476227]\n",
      " [-1.40864014 -2.20148038]\n",
      " [-1.28548339 -1.90177269]\n",
      " [-1.38431399 -1.80218401]\n",
      " [-1.12136823 -1.53021571]\n",
      " [-1.31831374 -1.54860234]\n",
      " [-1.58367182 -1.98077996]\n",
      " [-1.28716445 -1.77562146]\n",
      " [-1.31422036 -1.51454424]\n",
      " [-1.37605297 -1.58704672]\n",
      " [-1.94923317 -2.23514437]\n",
      " [-1.77516687 -2.54725756]\n",
      " [-1.63024483 -2.302505  ]\n",
      " [-1.42847467 -1.96369972]\n",
      " [-1.50337736 -2.06783361]\n",
      " [-1.48893461 -2.11442674]\n",
      " [-1.35700838 -1.75428449]\n",
      " [-1.3795792  -2.13271099]\n",
      " [-1.65506386 -2.0431741 ]\n",
      " [-1.04356034 -1.92449977]\n",
      " [-1.12096094 -1.699853  ]\n",
      " [-1.17443134 -1.54228363]\n",
      " [-1.18744274 -1.93081847]\n",
      " [-1.46468272 -1.86215146]\n",
      " [-1.48146353 -1.82874656]\n",
      " [-1.18904953 -1.65764616]\n",
      " [-1.17130335 -1.5996383 ]\n",
      " [-1.32634064 -1.95868741]\n",
      " [-1.76713997 -2.13717248]\n",
      " [-1.85304902 -2.29999459]\n",
      " [-1.2475787  -1.62554765]\n",
      " [-1.47327677 -1.76063036]\n",
      " [-1.63810761 -1.91462335]\n",
      " [-1.56681676 -1.86716377]\n",
      " [-1.21538977 -1.61413292]\n",
      " [-1.40518817 -1.80283721]\n",
      " [-1.46300166 -1.98830268]\n",
      " [-0.89518633 -1.28110404]\n",
      " [-1.2926305  -1.73145503]\n",
      " [-1.08459303 -2.14337015]\n",
      " [-1.19659488 -2.09034743]\n",
      " [-1.17275028 -1.66843486]\n",
      " [-1.50426848 -2.01222527]\n",
      " [-1.2789777  -1.70750527]\n",
      " [-1.56279764 -1.98012676]\n",
      " [-1.40109479 -1.76877911]\n",
      " [ 0.89710107 -1.81307261]\n",
      " [ 0.98227886 -1.93661105]\n",
      " [ 1.138133   -1.78019136]\n",
      " [ 1.09925388 -1.37517293]\n",
      " [ 1.17128732 -1.67736387]\n",
      " [ 1.14140953 -1.54350383]\n",
      " [ 1.14607006 -2.02105191]\n",
      " [ 0.58586528 -1.37587196]\n",
      " [ 0.97032269 -1.5827875 ]\n",
      " [ 1.02272882 -1.71005903]\n",
      " [ 0.83027492 -1.09136863]\n",
      " [ 0.99768699 -1.89179142]\n",
      " [ 0.82129822 -1.08894193]\n",
      " [ 1.20082982 -1.63121068]\n",
      " [ 0.6250528  -1.82881708]\n",
      " [ 0.83214047 -1.82822043]\n",
      " [ 1.22651305 -1.81406337]\n",
      " [ 0.72534591 -1.35568466]\n",
      " [ 1.41023091 -1.3486941 ]\n",
      " [ 0.80426771 -1.36451378]\n",
      " [ 1.4650584  -2.08841253]\n",
      " [ 0.78090694 -1.67239739]\n",
      " [ 1.49510031 -1.42430585]\n",
      " [ 1.0979801  -1.418659  ]\n",
      " [ 0.84586754 -1.65724957]\n",
      " [ 0.89163502 -1.76890617]\n",
      " [ 1.14873208 -1.55186584]\n",
      " [ 1.41537299 -1.84885837]\n",
      " [ 1.18163669 -1.7580151 ]\n",
      " [ 0.45243343 -1.44790734]\n",
      " [ 0.80836109 -1.33045568]\n",
      " [ 0.68222488 -1.27876652]\n",
      " [ 0.75601365 -1.56008759]\n",
      " [ 1.6620195  -1.56610137]\n",
      " [ 1.26826142 -1.81275697]\n",
      " [ 1.05926989 -2.12826568]\n",
      " [ 1.06907902 -1.82939727]\n",
      " [ 1.15386511 -1.27937389]\n",
      " [ 0.86343829 -1.76119736]\n",
      " [ 1.02201314 -1.49249504]\n",
      " [ 1.13426242 -1.37318617]\n",
      " [ 1.10680828 -1.71512788]\n",
      " [ 0.85003519 -1.47617038]\n",
      " [ 0.60361147 -1.3178641 ]\n",
      " [ 1.03470057 -1.55995804]\n",
      " [ 0.82723024 -1.6596491 ]\n",
      " [ 0.93658565 -1.67793335]\n",
      " [ 0.88761591 -1.65594318]\n",
      " [ 0.41002808 -1.58855318]\n",
      " [ 0.91980484 -1.64452845]\n",
      " [ 2.50290064 -2.38522969]\n",
      " [ 1.91597298 -1.79563091]\n",
      " [ 2.11342696 -1.93194701]\n",
      " [ 1.94063215 -1.71299292]\n",
      " [ 2.25400592 -2.0302293 ]\n",
      " [ 2.39686425 -1.75841992]\n",
      " [ 1.70720425 -1.67007633]\n",
      " [ 2.11969853 -1.54273181]\n",
      " [ 2.12241924 -1.43044918]\n",
      " [ 2.25457307 -2.54183547]\n",
      " [ 1.6474869  -2.17045387]\n",
      " [ 1.90153023 -1.74903778]\n",
      " [ 1.95444482 -2.03101204]\n",
      " [ 2.02942177 -1.77985706]\n",
      " [ 2.23102781 -2.23901851]\n",
      " [ 1.99136855 -2.35012429]\n",
      " [ 1.80486225 -1.79821652]\n",
      " [ 2.19316333 -2.28005071]\n",
      " [ 2.83814514 -1.60255105]\n",
      " [ 1.72898513 -1.22110694]\n",
      " [ 2.10860232 -2.25236566]\n",
      " [ 1.87903368 -1.98044319]\n",
      " [ 2.43789694 -1.53954954]\n",
      " [ 1.63006469 -1.77246389]\n",
      " [ 1.97026024 -2.1558297 ]\n",
      " [ 1.85850809 -1.79383024]\n",
      " [ 1.55691733 -1.8557279 ]\n",
      " [ 1.55595195 -1.94714066]\n",
      " [ 2.17058346 -1.88582099]\n",
      " [ 1.68347641 -1.57312982]\n",
      " [ 2.09737742 -1.61218156]\n",
      " [ 1.84374137 -2.20323495]\n",
      " [ 2.2413185  -1.9627663 ]\n",
      " [ 1.49004155 -1.54977671]\n",
      " [ 1.81530147 -1.22792212]\n",
      " [ 2.24045429 -2.0392445 ]\n",
      " [ 2.17194055 -2.46797005]\n",
      " [ 1.78711606 -1.85622438]\n",
      " [ 1.52142496 -1.97174362]\n",
      " [ 1.8395491  -2.11558244]\n",
      " [ 2.20430493 -2.29459967]\n",
      " [ 1.81481566 -2.34524152]\n",
      " [ 1.91597298 -1.79563091]\n",
      " [ 2.24027885 -2.20120015]\n",
      " [ 2.2532004  -2.46361094]\n",
      " [ 1.95058557 -2.26001792]\n",
      " [ 1.83344164 -1.70683093]\n",
      " [ 1.78012881 -2.0278756 ]\n",
      " [ 2.01127735 -2.44088385]\n",
      " [ 1.70850266 -1.89532196]]\n"
     ]
    }
   ],
   "source": [
    "lda = LDA(2)\n",
    "lda.fit(X, y)\n",
    "X_projected = lda.transform(X)\n",
    "print(X_projected.shape)\n",
    "print(X_projected)"
   ]
  },
  {
   "cell_type": "code",
   "execution_count": 42,
   "metadata": {},
   "outputs": [],
   "source": [
    "X_train, X_test, y_train, y_test = train_test_split(X_projected, y, test_size=0.2)"
   ]
  },
  {
   "cell_type": "code",
   "execution_count": 43,
   "metadata": {},
   "outputs": [
    {
     "name": "stdout",
     "output_type": "stream",
     "text": [
      "Training time:  0.020943403244018555\n",
      "Confusion matrix: \n",
      "[[ 8  0  0]\n",
      " [ 0  8  2]\n",
      " [ 0  0 12]]\n",
      "Metrics: \n",
      "              precision    recall  f1-score   support\n",
      "\n",
      "           0       1.00      1.00      1.00         8\n",
      "           1       1.00      0.80      0.89        10\n",
      "           2       0.86      1.00      0.92        12\n",
      "\n",
      "    accuracy                           0.93        30\n",
      "   macro avg       0.95      0.93      0.94        30\n",
      "weighted avg       0.94      0.93      0.93        30\n",
      "\n",
      "Accuracy:  0.9333333333333333\n"
     ]
    }
   ],
   "source": [
    "start_time = time.time()\n",
    "clf = MLPClassifier(solver='lbfgs', alpha=1e-5, max_iter=1000, hidden_layer_sizes=(3, 3), random_state=1)\n",
    "clf.fit(X_train, y_train)\n",
    "preds = clf.predict(X_test)\n",
    "duration = time.time() - start_time\n",
    "\n",
    "print(\"Training time: \", duration)\n",
    "print(\"Confusion matrix: \")\n",
    "print(cm(y_test, preds))\n",
    "print(\"Metrics: \")\n",
    "print(cr(y_test, preds))\n",
    "print(\"Accuracy: \", np.sum(preds == y_test)/len(y_test))"
   ]
  },
  {
   "cell_type": "code",
   "execution_count": 35,
   "metadata": {},
   "outputs": [
    {
     "data": {
      "text/plain": [
       "array([0, 0, 0, 0, 0, 0, 0, 0, 0, 0, 0, 0, 0, 0, 0, 0, 0, 0, 0, 0, 0, 0,\n",
       "       0, 0, 0, 0, 0, 0, 0, 0, 0, 0, 0, 0, 0, 0, 0, 0, 0, 0, 0, 0, 0, 0,\n",
       "       0, 0, 0, 0, 0, 0, 1, 1, 1, 1, 1, 1, 1, 1, 1, 1, 1, 1, 1, 1, 1, 1,\n",
       "       1, 1, 1, 1, 2, 1, 1, 1, 1, 1, 1, 1, 1, 1, 1, 1, 1, 2, 1, 1, 1, 1,\n",
       "       1, 1, 1, 1, 1, 1, 1, 1, 1, 1, 1, 1, 2, 2, 2, 2, 2, 2, 2, 2, 2, 2,\n",
       "       2, 2, 2, 2, 2, 2, 2, 2, 2, 2, 2, 2, 2, 2, 2, 2, 2, 2, 2, 2, 2, 2,\n",
       "       2, 1, 2, 2, 2, 2, 2, 2, 2, 2, 2, 2, 2, 2, 2, 2, 2, 2])"
      ]
     },
     "execution_count": 35,
     "metadata": {},
     "output_type": "execute_result"
    }
   ],
   "source": [
    "start_time = time.time()\n",
    "kmeans = KMeans(n_clusters=3)\n",
    "kmeans.fit(X_projected)\n",
    "duration = time.time() - start_time\n",
    "kmeans.labels_"
   ]
  },
  {
   "cell_type": "code",
   "execution_count": 36,
   "metadata": {},
   "outputs": [],
   "source": [
    "preds = kmeans.predict(X_test)"
   ]
  },
  {
   "cell_type": "code",
   "execution_count": 37,
   "metadata": {},
   "outputs": [
    {
     "name": "stdout",
     "output_type": "stream",
     "text": [
      "Training time:  0.0189816951751709\n",
      "Confusion matrix: \n",
      "[[ 8  0  0]\n",
      " [ 0 11  0]\n",
      " [ 0  1 10]]\n",
      "Metrics: \n",
      "              precision    recall  f1-score   support\n",
      "\n",
      "           0       1.00      1.00      1.00         8\n",
      "           1       0.92      1.00      0.96        11\n",
      "           2       1.00      0.91      0.95        11\n",
      "\n",
      "    accuracy                           0.97        30\n",
      "   macro avg       0.97      0.97      0.97        30\n",
      "weighted avg       0.97      0.97      0.97        30\n",
      "\n",
      "Accuracy:  0.9666666666666667\n"
     ]
    }
   ],
   "source": [
    "print(\"Training time: \", duration)\n",
    "print(\"Confusion matrix: \")\n",
    "print(cm(y_test, preds))\n",
    "print(\"Metrics: \")\n",
    "print(cr(y_test, preds))\n",
    "print(\"Accuracy: \", np.sum(preds == y_test)/len(y_test))"
   ]
  },
  {
   "cell_type": "code",
   "execution_count": null,
   "metadata": {},
   "outputs": [],
   "source": []
  }
 ],
 "metadata": {
  "kernelspec": {
   "display_name": "Python 3",
   "language": "python",
   "name": "python3"
  },
  "language_info": {
   "codemirror_mode": {
    "name": "ipython",
    "version": 3
   },
   "file_extension": ".py",
   "mimetype": "text/x-python",
   "name": "python",
   "nbconvert_exporter": "python",
   "pygments_lexer": "ipython3",
   "version": "3.8.10"
  }
 },
 "nbformat": 4,
 "nbformat_minor": 4
}
