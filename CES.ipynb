{
  "nbformat": 4,
  "nbformat_minor": 0,
  "metadata": {
    "colab": {
      "name": "CES.ipynb",
      "provenance": [],
      "collapsed_sections": [],
      "authorship_tag": "ABX9TyPjImjRoR3q7CF6Eyu/3UuI",
      "include_colab_link": true
    },
    "kernelspec": {
      "name": "python3",
      "display_name": "Python 3"
    },
    "language_info": {
      "name": "python"
    }
  },
  "cells": [
    {
      "cell_type": "markdown",
      "metadata": {
        "id": "view-in-github",
        "colab_type": "text"
      },
      "source": [
        "<a href=\"https://colab.research.google.com/github/vignesh24g/python/blob/main/CES.ipynb\" target=\"_parent\"><img src=\"https://colab.research.google.com/assets/colab-badge.svg\" alt=\"Open In Colab\"/></a>"
      ]
    },
    {
      "cell_type": "code",
      "execution_count": 39,
      "metadata": {
        "colab": {
          "base_uri": "https://localhost:8080/"
        },
        "id": "K3v87TqnhpbI",
        "outputId": "5c707af1-7bd6-4cab-cb01-04aa27c14fb4"
      },
      "outputs": [
        {
          "output_type": "stream",
          "name": "stdout",
          "text": [
            "\n",
            "Instances are:\n",
            " [['Japan' 'Honda' 'Blue' 1980 'Economy']\n",
            " ['Japan' 'Toyota' 'Green' 1970 'Sports']\n",
            " ['Japan' 'Toyota' 'Blue' 1990 'Economy']\n",
            " ['USA' 'Chrysler' 'Red' 1980 'Economy']\n",
            " ['Japan' 'Honda' 'White' 1980 'Economy']]\n",
            "\n",
            "Target Values are:  ['Positive' 'Negative' 'Positive' 'Negative' 'Positive']\n",
            "\n",
            "Initialization of specific_h and genearal_h\n",
            "\n",
            "Specific Boundary:  ['Japan' 'Honda' 'Blue' 1980 'Economy']\n",
            "\n",
            "Generic Boundary:  [['?', '?', '?', '?', '?'], ['?', '?', '?', '?', '?'], ['?', '?', '?', '?', '?'], ['?', '?', '?', '?', '?'], ['?', '?', '?', '?', '?']]\n",
            "\n",
            "Instance 1 is  ['Japan' 'Honda' 'Blue' 1980 'Economy']\n",
            "Instance is Positive \n",
            "Specific Bundary after  1 Instance is  ['Japan' 'Honda' 'Blue' 1980 'Economy']\n",
            "Generic Boundary after  1 Instance is  [['?', '?', '?', '?', '?'], ['?', '?', '?', '?', '?'], ['?', '?', '?', '?', '?'], ['?', '?', '?', '?', '?'], ['?', '?', '?', '?', '?']]\n",
            "\n",
            "\n",
            "\n",
            "Instance 2 is  ['Japan' 'Toyota' 'Green' 1970 'Sports']\n",
            "Instance is Negative \n",
            "Specific Bundary after  2 Instance is  ['Japan' 'Honda' 'Blue' 1980 'Economy']\n",
            "Generic Boundary after  2 Instance is  [['?', '?', '?', '?', '?'], ['?', 'Honda', '?', '?', '?'], ['?', '?', 'Blue', '?', '?'], ['?', '?', '?', 1980, '?'], ['?', '?', '?', '?', 'Economy']]\n",
            "\n",
            "\n",
            "\n",
            "Instance 3 is  ['Japan' 'Toyota' 'Blue' 1990 'Economy']\n",
            "Instance is Positive \n",
            "Specific Bundary after  3 Instance is  ['Japan' '?' 'Blue' '?' 'Economy']\n",
            "Generic Boundary after  3 Instance is  [['?', '?', '?', '?', '?'], ['?', '?', '?', '?', '?'], ['?', '?', 'Blue', '?', '?'], ['?', '?', '?', '?', '?'], ['?', '?', '?', '?', 'Economy']]\n",
            "\n",
            "\n",
            "\n",
            "Instance 4 is  ['USA' 'Chrysler' 'Red' 1980 'Economy']\n",
            "Instance is Negative \n",
            "Specific Bundary after  4 Instance is  ['Japan' '?' 'Blue' '?' 'Economy']\n",
            "Generic Boundary after  4 Instance is  [['Japan', '?', '?', '?', 'Economy'], ['?', '?', '?', '?', '?'], ['?', '?', 'Blue', '?', '?'], ['?', '?', '?', '?', '?'], ['?', '?', '?', '?', '?']]\n",
            "\n",
            "\n",
            "\n",
            "Instance 5 is  ['Japan' 'Honda' 'White' 1980 'Economy']\n",
            "Instance is Positive \n",
            "Specific Bundary after  5 Instance is  ['Japan' '?' '?' '?' 'Economy']\n",
            "Generic Boundary after  5 Instance is  [['Japan', '?', '?', '?', 'Economy'], ['?', '?', '?', '?', '?'], ['?', '?', '?', '?', '?'], ['?', '?', '?', '?', '?'], ['?', '?', '?', '?', '?']]\n",
            "\n",
            "\n",
            "Final Specific_h: \n",
            "['Japan' '?' '?' '?' 'Economy']\n",
            "Final General_h: \n",
            "[['Japan', '?', '?', '?', 'Economy'], ['?', '?', '?', '?', '?'], ['?', '?', '?', '?', '?'], ['?', '?', '?', '?', '?'], ['?', '?', '?', '?', '?']]\n"
          ]
        }
      ],
      "source": [
        "#!/usr/bin/env python\n",
        "# coding: utf-8\n",
        "\n",
        "# In[1]:\n",
        "\n",
        "\n",
        "import numpy as np \n",
        "import pandas as pd\n",
        "\n",
        "data = pd.read_csv('Japanese_Economy_Car.csv')\n",
        "concepts = np.array(data.iloc[:5,:-1])\n",
        "print(\"\\nInstances are:\\n\",concepts)\n",
        "target = np.array(data.iloc[:5,-1])\n",
        "print(\"\\nTarget Values are: \",target)\n",
        "\n",
        "def learn(concepts, target): \n",
        "    specific_h = concepts[0].copy()\n",
        "    print(\"\\nInitialization of specific_h and genearal_h\")\n",
        "    print(\"\\nSpecific Boundary: \", specific_h)\n",
        "    general_h = [[\"?\" for i in range(len(specific_h))] for i in range(len(specific_h))]\n",
        "    print(\"\\nGeneric Boundary: \",general_h)  \n",
        "\n",
        "    for i, h in enumerate(concepts):\n",
        "        print(\"\\nInstance\", i+1 , \"is \", h)\n",
        "        if target[i] == \"Positive\":\n",
        "            print(\"Instance is Positive \")\n",
        "            for x in range(len(specific_h)): \n",
        "                if h[x]!= specific_h[x]:                    \n",
        "                    specific_h[x] ='?'                     \n",
        "                    general_h[x][x] ='?'\n",
        "                   \n",
        "        if target[i] == \"Negative\":            \n",
        "            print(\"Instance is Negative \")\n",
        "            for x in range(len(specific_h)): \n",
        "                if h[x]!= specific_h[x]:\n",
        "                  general_h[x][x] = specific_h[x]   \n",
        "                elif(h[x]==specific_h[x] and general_h[x][x]==specific_h[x]):\n",
        "                      general_h[0][x]=specific_h[x]\n",
        "                      general_h[x][x]='?'        \n",
        "                else:                    \n",
        "                    general_h[x][x] = '?'        \n",
        "        \n",
        "        print(\"Specific Bundary after \", i+1, \"Instance is \", specific_h)         \n",
        "        print(\"Generic Boundary after \", i+1, \"Instance is \", general_h)\n",
        "        print(\"\\n\")\n",
        "\n",
        "    indices = [i for i, val in enumerate(general_h) if val == ['?', '?', '?', '?', '?', '?']]    \n",
        "    for i in indices:   \n",
        "        general_h.remove(['?', '?', '?', '?', '?', '?']) \n",
        "    return specific_h, general_h \n",
        "\n",
        "s_final, g_final = learn(concepts, target)\n",
        "\n",
        "print(\"Final Specific_h: \", s_final, sep=\"\\n\")\n",
        "print(\"Final General_h: \", g_final, sep=\"\\n\")\n",
        "\n",
        "\n",
        "# In[ ]:\n",
        "\n",
        "\n",
        "\n"
      ]
    }
  ]
}
